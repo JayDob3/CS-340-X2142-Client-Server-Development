from jupyter_plotly_dash import JupyterDash
import dash_core_components as dcc
import dash_html_components as html
import dash
from dash.dependencies import Input, Output
from pymongo import MongoClient
import urllib.parse
from bson.json_util import dumps
import json
import uuid

#TODO: import for their CRUD module
from AnimalShelter import AnimalShelter

# this is a juypter dash application
app = JupyterDash('ModuleFive')

# the application interfaces are declared here
# this application has two input boxes, a submit button, a horizontal line and div for output
app.layout = html.Div([
    html.H1("Janera's Client-Server Authentication"),
        dcc.Input(
            id="input_user".format("text"),
            type="text",
            placeholder="input type {}".format("text")),
        dcc.Input(
            id="input_passwd".format("password"),
            type="password",
            placeholder="input type {}".format("password")),
        html.Button('Execute', id='submit-val', n_clicks=0),
        
    html.Hr(),
    html.Div(id="query-out"),
        
    #TODO: insert unique identifier code here]
    # make a UUID based on the host address and current time
    'e6f53df6-3969-11eb-806b-b9beed39c265'
    ])

# this is area to define application responses or callback routines
# this one callback will take the entered text and if the submit button is clicked then call the 
#  mongo database with the find_one query and return the result to the output div
@app.callback(
    Output("query-out", "children"),
    [Input("input_user".format("text"), "value"), 
     Input("input_passwd".format("password"),"value"),
     Input('submit-val', 'n_clicks')],
    [dash.dependencies.State('input_passwd', 'value')]
)
def cb_render(userValue,passValue,n_clicks,buttonValue):
    if n_clicks > 0:
        ###########################
        # Data Manipulation / Model
        # use CRUD module to access MongoDB
        ##########################
        username = urllib.parse.quote_plus(userValue)
        password = urllib.parse.quote_plus(passValue)
        
        #TODO: Instantiate CRUD object with above authentication username and password values
        # Initializing the MongoClient using the specified path to my port 
        self.client = MongoClient('mongodb://%s:%s@127.0.0.1:51965/AAC' % ("accuser", "010309"))
        #Setting the AAC database to be worked from
        self.database = self.client['AAC']
        
        # note that MongoDB returns BSON, the pyMongo JSON utility function dumps is used to convert to text
        #TODO: Return example query results
        
#Test data
data =  data = {"age_upon_outcome": "1 year",

            "animal_id": "D333333",

            "animal_type": "Dog",

            "breed": "English Bulldog",

            "color": "Brown",

            "date_of_birth": "09/22/16",

            "datetime": "2016-09-22 10:49:00",

            "monthyear": "2016-09-22T10:49:00",

            "name": "Lucy",

            "outcome_subtype": "Foster",

            "outcome_type": "Adoption",

            "sex_upon_outcome": "Female",

            "location_lat": 33.68462687,

            "location_long": -97.35999933,

            "age_upon_outcome_in_weeks": 50.9641111428357
               }

data_json = json.dumps(data)
print(repr(data_json))


app
