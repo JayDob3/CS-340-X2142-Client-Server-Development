#Test data
data_1 = {"age_upon_outcome": "5 months",

            "animal_id": "A333333",

            "animal_type": "Dog",

            "breed": "English Bulldog",

            "color": "Brown and Black",

            "date_of_birth": "07/21/20",

            "datetime": "2020-07-21 10:49:00",

            "monthyear": "2020-07-21T10:49:00",

            "name": "Arenaj",

            "outcome_subtype": "Foster",

            "outcome_type": "Adoption",

            "sex_upon_outcome": "Unneutered Male",

            "location_lat": 33.60384687,

            "location_long": -97.35033333,

            "age_upon_outcome_in_weeks": 28.9642246428357}

data_2 = {"age_upon_outcome": "6 months",

            "animal_id": "A333334",

            "animal_type": "Dog",

            "breed": "Sheba",

            "color": "Black",

            "date_of_birth": "01/18/20",

            "datetime": "2020-01-18 10:49:00",

            "monthyear": "2020-01-18T10:49:00",

            "name": "Seasons",

            "outcome_subtype": "Foster",

            "outcome_type": "Adoption",

            "sex_upon_outcome": "Neutered Male",

            "location_lat": 343.60987687,

            "location_long": -97.35034533,

            "age_upon_outcome_in_weeks": 28.1234246428357}

data_3 = {"age_upon_outcome": "8 months",

            "animal_id": "A333335",

            "animal_type": "Dog",

            "breed": " Siberian Husky",

            "color": "Deep Grey",

            "date_of_birth": "01/03/20",

            "datetime": "2020-01-03 10:49:00",

            "monthyear": "2020-01-03T10:49:00",

            "name": "Bless",

            "outcome_subtype": "Foster",

            "outcome_type": "Adoption",

            "sex_upon_outcome": "Neutered Male",

            "location_lat": 33.60382947,

            "location_long": -97.35054321,

            "age_upon_outcome_in_weeks": 72.9642246428357}



search = {"animal_id" : "A333333"}
assignment = AnimalShelter
assignment.__init__(assignment,"aacuser", "010309")

success = assignment.create(assignment, data_1)
print(success)
results = assignment.read(assignment, search)
print(results)

save = {"animal_id" : "A333333"}
assignment = AnimalShelter
assignment.__init__(assignment,"aacuser", "010309")

success = assignment.update(assignment, data_2)
print(success)
results = assignment.read(assignment, save)
print(results)

remove = {"animal_id" : "A333333"}
assignment = AnimalShelter
assignment.__init__(assignment,"aacuser", "010309")

success = assignment.delete(assignment, data_3)
print(success)
results = assignment.read(assignment, remove)
print(results)